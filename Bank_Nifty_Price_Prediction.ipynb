{
  "nbformat": 4,
  "nbformat_minor": 0,
  "metadata": {
    "colab": {
      "provenance": [],
      "mount_file_id": "1N4xYLlQfq0I7QxSNnGzrFfXQLEJn7RHj",
      "authorship_tag": "ABX9TyMpMZT4Sw6HrcVfwslkUjTV",
      "include_colab_link": true
    },
    "kernelspec": {
      "name": "python3",
      "display_name": "Python 3"
    },
    "language_info": {
      "name": "python"
    }
  },
  "cells": [
    {
      "cell_type": "markdown",
      "metadata": {
        "id": "view-in-github",
        "colab_type": "text"
      },
      "source": [
        "<a href=\"https://colab.research.google.com/github/yavarnaphanesh/Machine_Learning_projects/blob/yavarnaphanesh-Nifty_Bank_Live/Bank_Nifty_Price_Prediction.ipynb\" target=\"_parent\"><img src=\"https://colab.research.google.com/assets/colab-badge.svg\" alt=\"Open In Colab\"/></a>"
      ]
    },
    {
      "cell_type": "code",
      "source": [
        "import pandas as pd\n",
        "from sklearn.model_selection import train_test_split\n",
        "from sklearn.ensemble import RandomForestClassifier\n",
        "from sklearn.metrics import accuracy_score, classification_report\n",
        "\n",
        "# Load your historical data into a DataFrame.\n",
        "# Replace 'your_data.csv' with the path to your data file.\n",
        "data = pd.read_csv('https://query1.finance.yahoo.com/v7/finance/download/%5ENSEBANK?period1=1667915609&period2=1699451609&interval=1d&events=history&includeAdjustedClose=true')\n",
        "# Feature engineering (if needed) - create additional features here.\n",
        "# You can use open, high, low, close, and price_variation as features.\n",
        "print(df.dtypes)"
      ],
      "metadata": {
        "colab": {
          "base_uri": "https://localhost:8080/"
        },
        "id": "db3lXGFT6neP",
        "outputId": "292ac638-9374-4456-d671-350b7245867a"
      },
      "execution_count": 30,
      "outputs": [
        {
          "output_type": "stream",
          "name": "stdout",
          "text": [
            "Date          object\n",
            "Open         float64\n",
            "High         float64\n",
            "Low          float64\n",
            "Close        float64\n",
            "Adj Close    float64\n",
            "Volume       float64\n",
            "Variation    float64\n",
            "dtype: object\n"
          ]
        }
      ]
    },
    {
      "cell_type": "code",
      "source": [
        "data['Variation'] = data['Open'].diff()\n",
        "data['Variation'].fillna(data['Open'], inplace=True)\n",
        "data.dropna(subset=['Variation'], inplace=True)\n",
        "data.head"
      ],
      "metadata": {
        "colab": {
          "base_uri": "https://localhost:8080/"
        },
        "id": "OUkqhotGFi9u",
        "outputId": "0f46dc1d-31a9-46cb-d0b8-1fd42a7e63fe"
      },
      "execution_count": 31,
      "outputs": [
        {
          "output_type": "execute_result",
          "data": {
            "text/plain": [
              "<bound method NDFrame.head of            Date          Open          High           Low         Close  \\\n",
              "0    2022-11-09  41914.851563  41948.898438  41667.898438  41783.199219   \n",
              "1    2022-11-10  41462.851563  41643.898438  41318.601563  41603.750000   \n",
              "2    2022-11-11  42163.398438  42345.500000  41918.101563  42137.050781   \n",
              "3    2022-11-14  42177.550781  42231.449219  41965.449219  42076.750000   \n",
              "4    2022-11-15  42234.851563  42450.050781  42079.550781  42372.699219   \n",
              "..          ...           ...           ...           ...           ...   \n",
              "244  2023-11-02  43018.699219  43271.500000  42796.449219  43017.199219   \n",
              "245  2023-11-03  43318.300781  43416.101563  43221.000000  43318.250000   \n",
              "246  2023-11-06  43627.750000  43648.699219  43415.199219  43619.398438   \n",
              "247  2023-11-07  43598.851563  43799.351563  43283.851563  43737.898438   \n",
              "248  2023-11-08  43791.800781  43797.550781  43547.750000  43587.148438   \n",
              "\n",
              "        Adj Close    Volume     Variation  \n",
              "0    41782.714844  490500.0  41914.851563  \n",
              "1    41603.265625  253400.0   -452.000000  \n",
              "2    42136.562500  255400.0    700.546875  \n",
              "3    42076.261719  142700.0     14.152343  \n",
              "4    42372.207031  139400.0     57.300782  \n",
              "..            ...       ...           ...  \n",
              "244  43017.199219  144700.0    324.449219  \n",
              "245  43318.250000  124100.0    299.601562  \n",
              "246  43619.398438  149900.0    309.449219  \n",
              "247  43737.898438  198200.0    -28.898437  \n",
              "248  43587.148438       0.0    192.949218  \n",
              "\n",
              "[248 rows x 8 columns]>"
            ]
          },
          "metadata": {},
          "execution_count": 31
        }
      ]
    },
    {
      "cell_type": "code",
      "execution_count": 27,
      "metadata": {
        "colab": {
          "base_uri": "https://localhost:8080/"
        },
        "id": "a8kSRdeIrmQn",
        "outputId": "5acbedbc-93ae-4305-b0d8-2b8ec1e32b5e"
      },
      "outputs": [
        {
          "output_type": "stream",
          "name": "stdout",
          "text": [
            "Accuracy: 0.70\n",
            "              precision    recall  f1-score   support\n",
            "\n",
            "    Decrease       0.57      0.84      0.68        19\n",
            "    Increase       0.86      0.61      0.72        31\n",
            "\n",
            "    accuracy                           0.70        50\n",
            "   macro avg       0.72      0.73      0.70        50\n",
            "weighted avg       0.75      0.70      0.70        50\n",
            "\n",
            "Predicted Market Price: Decrease\n"
          ]
        }
      ],
      "source": [
        "\n",
        "# Define the target variable (market price increase or decrease).\n",
        "# You can use 'price_variation' or create a binary target variable based on your criteria.\n",
        "data['target'] = data['Variation'].apply(lambda x: 'Increase' if x > 0 else 'Decrease')\n",
        "\n",
        "# Split the data into features (X) and the target variable (y).\n",
        "X = data[['Open', 'High', 'Low', 'Close']]\n",
        "y = data['target']\n",
        "\n",
        "# Split the data into training and testing sets (80% for training, 20% for testing).\n",
        "X_train, X_test, y_train, y_test = train_test_split(X, y, test_size=0.2, random_state=42)\n",
        "\n",
        "# Create and train a Random Forest Classifier.\n",
        "model = RandomForestClassifier(random_state=42)\n",
        "model.fit(X_train, y_train)\n",
        "\n",
        "# Make predictions on the testing set.\n",
        "y_pred = model.predict(X_test)\n",
        "\n",
        "# Calculate the accuracy of the model.\n",
        "accuracy = accuracy_score(y_test, y_pred)\n",
        "print(f'Accuracy: {accuracy:.2f}')\n",
        "\n",
        "# Generate classification report for more detailed evaluation.\n",
        "print(classification_report(y_test, y_pred))\n",
        "\n",
        "# Predict market price increase or decrease for future data.\n",
        "# Replace 'new_data' with the features of the day you want to predict.\n",
        "new_data = pd.DataFrame({'Open': [100], 'High': [110], 'Low': [95], 'Close': [105]})\n",
        "predicted_result = model.predict(new_data)\n",
        "\n",
        "print(f'Predicted Market Price: {predicted_result[0]}')\n"
      ]
    },
    {
      "cell_type": "code",
      "source": [
        "import pandas as pd\n",
        "import numpy as np\n",
        "from sklearn.preprocessing import MinMaxScaler\n",
        "from sklearn.model_selection import train_test_split\n",
        "from keras.models import Sequential\n",
        "from keras.layers import LSTM, Dense\n",
        "import matplotlib.pyplot as plt\n",
        "\n",
        "# Load your historical data into a DataFrame.\n",
        "# Replace 'your_data.csv' with the path to your data file.\n",
        "\n",
        "null_values = data.isnull()\n",
        "print(null_values)\n",
        "null_count = null_values.sum()\n",
        "print(null_count)"
      ],
      "metadata": {
        "colab": {
          "base_uri": "https://localhost:8080/"
        },
        "id": "BcEbNHaxANYM",
        "outputId": "2011a1ad-f202-4b75-f727-6932b1ad1b13"
      },
      "execution_count": 32,
      "outputs": [
        {
          "output_type": "stream",
          "name": "stdout",
          "text": [
            "      Date   Open   High    Low  Close  Adj Close  Volume  Variation\n",
            "0    False  False  False  False  False      False   False      False\n",
            "1    False  False  False  False  False      False   False      False\n",
            "2    False  False  False  False  False      False   False      False\n",
            "3    False  False  False  False  False      False   False      False\n",
            "4    False  False  False  False  False      False   False      False\n",
            "..     ...    ...    ...    ...    ...        ...     ...        ...\n",
            "244  False  False  False  False  False      False   False      False\n",
            "245  False  False  False  False  False      False   False      False\n",
            "246  False  False  False  False  False      False   False      False\n",
            "247  False  False  False  False  False      False   False      False\n",
            "248  False  False  False  False  False      False   False      False\n",
            "\n",
            "[248 rows x 8 columns]\n",
            "Date         0\n",
            "Open         0\n",
            "High         0\n",
            "Low          0\n",
            "Close        0\n",
            "Adj Close    0\n",
            "Volume       0\n",
            "Variation    0\n",
            "dtype: int64\n"
          ]
        }
      ]
    },
    {
      "cell_type": "code",
      "source": [
        "# Use the 'Price_variation' column as the target variable.\n",
        "data = data[['Variation']]"
      ],
      "metadata": {
        "id": "0-H-ot07Agzg"
      },
      "execution_count": 34,
      "outputs": []
    },
    {
      "cell_type": "code",
      "source": [
        "# Convert the data to numpy arrays and scale the values to [0, 1].\n",
        "scaler = MinMaxScaler()\n",
        "data = scaler.fit_transform(data)\n",
        "\n",
        "# Define the sequence length (number of time steps to look back).\n",
        "sequence_length = 10\n",
        "\n",
        "# Create sequences of data for training.\n",
        "X, y = [], []\n",
        "for i in range(len(data) - sequence_length):\n",
        "    X.append(data[i:i+sequence_length])\n",
        "    y.append(data[i+sequence_length])\n",
        "\n",
        "X, y = np.array(X), np.array(y)\n",
        "\n",
        "# Split the data into training and testing sets.\n",
        "X_train, X_test, y_train, y_test = train_test_split(X, y, test_size=0.2, random_state=42)"
      ],
      "metadata": {
        "id": "F19V9WDhAREV"
      },
      "execution_count": 35,
      "outputs": []
    },
    {
      "cell_type": "code",
      "source": [
        "# Build an LSTM model.\n",
        "model = Sequential()\n",
        "model.add(LSTM(50, activation='relu', input_shape=(sequence_length, 1)))\n",
        "model.add(Dense(1))\n",
        "model.compile(optimizer='adam', loss='mean_squared_error')\n",
        "\n",
        "# Train the model.\n",
        "model.fit(X_train, y_train, epochs=50, batch_size=32)\n",
        "\n",
        "# Evaluate the model.\n",
        "loss = model.evaluate(X_test, y_test)\n",
        "print(f'Test Loss: {loss:.4f}')"
      ],
      "metadata": {
        "colab": {
          "base_uri": "https://localhost:8080/"
        },
        "id": "5C78-71jATrf",
        "outputId": "fa676189-a911-4100-96cd-a9a846b6b772"
      },
      "execution_count": 36,
      "outputs": [
        {
          "output_type": "stream",
          "name": "stdout",
          "text": [
            "Epoch 1/50\n",
            "6/6 [==============================] - 2s 7ms/step - loss: 0.0060\n",
            "Epoch 2/50\n",
            "6/6 [==============================] - 0s 7ms/step - loss: 0.0050\n",
            "Epoch 3/50\n",
            "6/6 [==============================] - 0s 7ms/step - loss: 0.0050\n",
            "Epoch 4/50\n",
            "6/6 [==============================] - 0s 7ms/step - loss: 0.0051\n",
            "Epoch 5/50\n",
            "6/6 [==============================] - 0s 8ms/step - loss: 0.0050\n",
            "Epoch 6/50\n",
            "6/6 [==============================] - 0s 7ms/step - loss: 0.0050\n",
            "Epoch 7/50\n",
            "6/6 [==============================] - 0s 8ms/step - loss: 0.0050\n",
            "Epoch 8/50\n",
            "6/6 [==============================] - 0s 7ms/step - loss: 0.0050\n",
            "Epoch 9/50\n",
            "6/6 [==============================] - 0s 7ms/step - loss: 0.0050\n",
            "Epoch 10/50\n",
            "6/6 [==============================] - 0s 7ms/step - loss: 0.0050\n",
            "Epoch 11/50\n",
            "6/6 [==============================] - 0s 7ms/step - loss: 0.0050\n",
            "Epoch 12/50\n",
            "6/6 [==============================] - 0s 7ms/step - loss: 0.0050\n",
            "Epoch 13/50\n",
            "6/6 [==============================] - 0s 6ms/step - loss: 0.0050\n",
            "Epoch 14/50\n",
            "6/6 [==============================] - 0s 6ms/step - loss: 0.0050\n",
            "Epoch 15/50\n",
            "6/6 [==============================] - 0s 9ms/step - loss: 0.0050\n",
            "Epoch 16/50\n",
            "6/6 [==============================] - 0s 10ms/step - loss: 0.0050\n",
            "Epoch 17/50\n",
            "6/6 [==============================] - 0s 10ms/step - loss: 0.0050\n",
            "Epoch 18/50\n",
            "6/6 [==============================] - 0s 10ms/step - loss: 0.0050\n",
            "Epoch 19/50\n",
            "6/6 [==============================] - 0s 10ms/step - loss: 0.0050\n",
            "Epoch 20/50\n",
            "6/6 [==============================] - 0s 11ms/step - loss: 0.0050\n",
            "Epoch 21/50\n",
            "6/6 [==============================] - 0s 10ms/step - loss: 0.0050\n",
            "Epoch 22/50\n",
            "6/6 [==============================] - 0s 10ms/step - loss: 0.0050\n",
            "Epoch 23/50\n",
            "6/6 [==============================] - 0s 10ms/step - loss: 0.0050\n",
            "Epoch 24/50\n",
            "6/6 [==============================] - 0s 13ms/step - loss: 0.0050\n",
            "Epoch 25/50\n",
            "6/6 [==============================] - 0s 12ms/step - loss: 0.0050\n",
            "Epoch 26/50\n",
            "6/6 [==============================] - 0s 10ms/step - loss: 0.0050\n",
            "Epoch 27/50\n",
            "6/6 [==============================] - 0s 10ms/step - loss: 0.0050\n",
            "Epoch 28/50\n",
            "6/6 [==============================] - 0s 10ms/step - loss: 0.0050\n",
            "Epoch 29/50\n",
            "6/6 [==============================] - 0s 10ms/step - loss: 0.0050\n",
            "Epoch 30/50\n",
            "6/6 [==============================] - 0s 10ms/step - loss: 0.0050\n",
            "Epoch 31/50\n",
            "6/6 [==============================] - 0s 10ms/step - loss: 0.0050\n",
            "Epoch 32/50\n",
            "6/6 [==============================] - 0s 10ms/step - loss: 0.0050\n",
            "Epoch 33/50\n",
            "6/6 [==============================] - 0s 10ms/step - loss: 0.0050\n",
            "Epoch 34/50\n",
            "6/6 [==============================] - 0s 12ms/step - loss: 0.0050\n",
            "Epoch 35/50\n",
            "6/6 [==============================] - 0s 11ms/step - loss: 0.0050\n",
            "Epoch 36/50\n",
            "6/6 [==============================] - 0s 11ms/step - loss: 0.0050\n",
            "Epoch 37/50\n",
            "6/6 [==============================] - 0s 11ms/step - loss: 0.0050\n",
            "Epoch 38/50\n",
            "6/6 [==============================] - 0s 11ms/step - loss: 0.0050\n",
            "Epoch 39/50\n",
            "6/6 [==============================] - 0s 13ms/step - loss: 0.0050\n",
            "Epoch 40/50\n",
            "6/6 [==============================] - 0s 15ms/step - loss: 0.0050\n",
            "Epoch 41/50\n",
            "6/6 [==============================] - 0s 11ms/step - loss: 0.0050\n",
            "Epoch 42/50\n",
            "6/6 [==============================] - 0s 11ms/step - loss: 0.0050\n",
            "Epoch 43/50\n",
            "6/6 [==============================] - 0s 12ms/step - loss: 0.0050\n",
            "Epoch 44/50\n",
            "6/6 [==============================] - 0s 11ms/step - loss: 0.0050\n",
            "Epoch 45/50\n",
            "6/6 [==============================] - 0s 11ms/step - loss: 0.0050\n",
            "Epoch 46/50\n",
            "6/6 [==============================] - 0s 11ms/step - loss: 0.0050\n",
            "Epoch 47/50\n",
            "6/6 [==============================] - 0s 11ms/step - loss: 0.0050\n",
            "Epoch 48/50\n",
            "6/6 [==============================] - 0s 11ms/step - loss: 0.0049\n",
            "Epoch 49/50\n",
            "6/6 [==============================] - 0s 10ms/step - loss: 0.0050\n",
            "Epoch 50/50\n",
            "6/6 [==============================] - 0s 10ms/step - loss: 0.0050\n",
            "2/2 [==============================] - 0s 9ms/step - loss: 8.9203e-05\n",
            "Test Loss: 0.0001\n"
          ]
        }
      ]
    },
    {
      "cell_type": "code",
      "source": [
        "\n",
        "# Make predictions on the testing set.\n",
        "y_pred = model.predict(X_test)\n",
        "\n",
        "# Inverse transform the scaled data to get actual values.\n",
        "y_test = scaler.inverse_transform(y_test)\n",
        "y_pred = scaler.inverse_transform(y_pred)\n",
        "\n",
        "# Plot the actual and predicted prices.\n",
        "plt.figure(figsize=(6, 6))\n",
        "plt.plot(y_test, label='Actual Price_Variation ')\n",
        "plt.plot(y_pred, label='Predicted Price_Variation ')\n",
        "plt.legend()\n",
        "plt.xlabel('Time Steps')\n",
        "plt.ylabel('Close Price')\n",
        "plt.show()\n",
        "\n",
        "# Predict the next day's closing price.\n",
        "last_sequence = X[-1]\n",
        "next_day_sequence = np.append(last_sequence[1:], y[-1])\n",
        "next_day_sequence = next_day_sequence.reshape(1, sequence_length, 1)\n",
        "next_day_prediction = model.predict(next_day_sequence)\n",
        "next_day_prediction = scaler.inverse_transform(next_day_prediction)\n",
        "\n",
        "print(f'Predicted Next Day Price_Variation: {next_day_prediction[0][0]:.2f}')\n"
      ],
      "metadata": {
        "colab": {
          "base_uri": "https://localhost:8080/",
          "height": 609
        },
        "id": "r2YfMV-T_JrT",
        "outputId": "5fe2481b-e3e1-4184-f96d-1c12e13841ac"
      },
      "execution_count": 38,
      "outputs": [
        {
          "output_type": "stream",
          "name": "stdout",
          "text": [
            "2/2 [==============================] - 0s 9ms/step\n"
          ]
        },
        {
          "output_type": "display_data",
          "data": {
            "text/plain": [
              "<Figure size 600x600 with 1 Axes>"
            ],
            "image/png": "[encoded data removed]"
          },
          "metadata": {}
        },
        {
          "output_type": "stream",
          "name": "stdout",
          "text": [
            "1/1 [==============================] - 0s 31ms/step\n",
            "Predicted Next Day Price_Variation: 243.29\n"
          ]
        }
      ]
    }
  ]
}